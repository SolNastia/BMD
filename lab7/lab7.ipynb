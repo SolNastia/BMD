{
 "cells": [
  {
   "cell_type": "markdown",
   "metadata": {},
   "source": [
    "## Обробка та аналіз БМД\n",
    "  \n",
    "**Лабораторна робота №7**  \n",
    "**t-критерій Стьюдента для незалежних вибірок**  \n",
    "виконала студентка групи БС-81  \n",
    "Соловйова Анастасія"
   ]
  },
  {
   "cell_type": "code",
   "execution_count": 1,
   "metadata": {},
   "outputs": [],
   "source": [
    "import numpy as np\n",
    "import pandas as pd\n",
    "import seaborn as sns\n",
    "from numpy.random import randint\n",
    "from math import sqrt"
   ]
  },
  {
   "cell_type": "markdown",
   "metadata": {},
   "source": [
    "1.Обрати реальні дані з kaggle або сгенерувати випадкові дані."
   ]
  },
  {
   "cell_type": "code",
   "execution_count": 2,
   "metadata": {},
   "outputs": [
    {
     "data": {
      "text/html": [
       "<div>\n",
       "<style scoped>\n",
       "    .dataframe tbody tr th:only-of-type {\n",
       "        vertical-align: middle;\n",
       "    }\n",
       "\n",
       "    .dataframe tbody tr th {\n",
       "        vertical-align: top;\n",
       "    }\n",
       "\n",
       "    .dataframe thead th {\n",
       "        text-align: right;\n",
       "    }\n",
       "</style>\n",
       "<table border=\"1\" class=\"dataframe\">\n",
       "  <thead>\n",
       "    <tr style=\"text-align: right;\">\n",
       "      <th>Кількість глядачів</th>\n",
       "      <th>Глядацький зал 1</th>\n",
       "      <th>Глядацький зал 2</th>\n",
       "    </tr>\n",
       "    <tr>\n",
       "      <th>Число місяця</th>\n",
       "      <th></th>\n",
       "      <th></th>\n",
       "    </tr>\n",
       "  </thead>\n",
       "  <tbody>\n",
       "    <tr>\n",
       "      <td>0</td>\n",
       "      <td>130</td>\n",
       "      <td>80</td>\n",
       "    </tr>\n",
       "    <tr>\n",
       "      <td>1</td>\n",
       "      <td>140</td>\n",
       "      <td>101</td>\n",
       "    </tr>\n",
       "    <tr>\n",
       "      <td>2</td>\n",
       "      <td>123</td>\n",
       "      <td>123</td>\n",
       "    </tr>\n",
       "    <tr>\n",
       "      <td>3</td>\n",
       "      <td>131</td>\n",
       "      <td>98</td>\n",
       "    </tr>\n",
       "    <tr>\n",
       "      <td>4</td>\n",
       "      <td>139</td>\n",
       "      <td>143</td>\n",
       "    </tr>\n",
       "    <tr>\n",
       "      <td>5</td>\n",
       "      <td>135</td>\n",
       "      <td>112</td>\n",
       "    </tr>\n",
       "    <tr>\n",
       "      <td>6</td>\n",
       "      <td>80</td>\n",
       "      <td>139</td>\n",
       "    </tr>\n",
       "    <tr>\n",
       "      <td>7</td>\n",
       "      <td>149</td>\n",
       "      <td>110</td>\n",
       "    </tr>\n",
       "    <tr>\n",
       "      <td>8</td>\n",
       "      <td>137</td>\n",
       "      <td>136</td>\n",
       "    </tr>\n",
       "    <tr>\n",
       "      <td>9</td>\n",
       "      <td>130</td>\n",
       "      <td>101</td>\n",
       "    </tr>\n",
       "    <tr>\n",
       "      <td>10</td>\n",
       "      <td>139</td>\n",
       "      <td>128</td>\n",
       "    </tr>\n",
       "    <tr>\n",
       "      <td>11</td>\n",
       "      <td>86</td>\n",
       "      <td>128</td>\n",
       "    </tr>\n",
       "    <tr>\n",
       "      <td>12</td>\n",
       "      <td>145</td>\n",
       "      <td>97</td>\n",
       "    </tr>\n",
       "    <tr>\n",
       "      <td>13</td>\n",
       "      <td>101</td>\n",
       "      <td>118</td>\n",
       "    </tr>\n",
       "    <tr>\n",
       "      <td>14</td>\n",
       "      <td>109</td>\n",
       "      <td>140</td>\n",
       "    </tr>\n",
       "    <tr>\n",
       "      <td>15</td>\n",
       "      <td>138</td>\n",
       "      <td>143</td>\n",
       "    </tr>\n",
       "    <tr>\n",
       "      <td>16</td>\n",
       "      <td>81</td>\n",
       "      <td>149</td>\n",
       "    </tr>\n",
       "    <tr>\n",
       "      <td>17</td>\n",
       "      <td>137</td>\n",
       "      <td>142</td>\n",
       "    </tr>\n",
       "    <tr>\n",
       "      <td>18</td>\n",
       "      <td>123</td>\n",
       "      <td>149</td>\n",
       "    </tr>\n",
       "    <tr>\n",
       "      <td>19</td>\n",
       "      <td>105</td>\n",
       "      <td>133</td>\n",
       "    </tr>\n",
       "    <tr>\n",
       "      <td>20</td>\n",
       "      <td>139</td>\n",
       "      <td>147</td>\n",
       "    </tr>\n",
       "    <tr>\n",
       "      <td>21</td>\n",
       "      <td>108</td>\n",
       "      <td>131</td>\n",
       "    </tr>\n",
       "    <tr>\n",
       "      <td>22</td>\n",
       "      <td>131</td>\n",
       "      <td>85</td>\n",
       "    </tr>\n",
       "    <tr>\n",
       "      <td>23</td>\n",
       "      <td>86</td>\n",
       "      <td>118</td>\n",
       "    </tr>\n",
       "    <tr>\n",
       "      <td>24</td>\n",
       "      <td>91</td>\n",
       "      <td>142</td>\n",
       "    </tr>\n",
       "    <tr>\n",
       "      <td>25</td>\n",
       "      <td>121</td>\n",
       "      <td>122</td>\n",
       "    </tr>\n",
       "    <tr>\n",
       "      <td>26</td>\n",
       "      <td>80</td>\n",
       "      <td>80</td>\n",
       "    </tr>\n",
       "    <tr>\n",
       "      <td>27</td>\n",
       "      <td>83</td>\n",
       "      <td>132</td>\n",
       "    </tr>\n",
       "    <tr>\n",
       "      <td>28</td>\n",
       "      <td>116</td>\n",
       "      <td>91</td>\n",
       "    </tr>\n",
       "    <tr>\n",
       "      <td>29</td>\n",
       "      <td>133</td>\n",
       "      <td>146</td>\n",
       "    </tr>\n",
       "    <tr>\n",
       "      <td>30</td>\n",
       "      <td>112</td>\n",
       "      <td>130</td>\n",
       "    </tr>\n",
       "  </tbody>\n",
       "</table>\n",
       "</div>"
      ],
      "text/plain": [
       "Кількість глядачів  Глядацький зал 1  Глядацький зал 2\n",
       "Число місяця                                          \n",
       "0                                130                80\n",
       "1                                140               101\n",
       "2                                123               123\n",
       "3                                131                98\n",
       "4                                139               143\n",
       "5                                135               112\n",
       "6                                 80               139\n",
       "7                                149               110\n",
       "8                                137               136\n",
       "9                                130               101\n",
       "10                               139               128\n",
       "11                                86               128\n",
       "12                               145                97\n",
       "13                               101               118\n",
       "14                               109               140\n",
       "15                               138               143\n",
       "16                                81               149\n",
       "17                               137               142\n",
       "18                               123               149\n",
       "19                               105               133\n",
       "20                               139               147\n",
       "21                               108               131\n",
       "22                               131                85\n",
       "23                                86               118\n",
       "24                                91               142\n",
       "25                               121               122\n",
       "26                                80                80\n",
       "27                                83               132\n",
       "28                               116                91\n",
       "29                               133               146\n",
       "30                               112               130"
      ]
     },
     "execution_count": 2,
     "metadata": {},
     "output_type": "execute_result"
    }
   ],
   "source": [
    "group1 = randint(80, 150, 31)\n",
    "group2 = randint(80, 150, 31)\n",
    "\n",
    "df = pd.DataFrame({\n",
    "    \"Глядацький зал 1\": group1, \n",
    "    \"Глядацький зал 2\": group2,})\n",
    "\n",
    "df.index.name = 'Число місяця'\n",
    "df.columns.name = 'Кількість глядачів'\n",
    "N = df.shape[0]\n",
    "df"
   ]
  },
  {
   "cell_type": "markdown",
   "metadata": {},
   "source": [
    "2.Побудувати графік, що відображає розкид даних в групах."
   ]
  },
  {
   "cell_type": "code",
   "execution_count": 3,
   "metadata": {},
   "outputs": [
    {
     "data": {
      "text/plain": [
       "[]"
      ]
     },
     "execution_count": 3,
     "metadata": {},
     "output_type": "execute_result"
    },
    {
     "data": {
      "image/png": "[encoded data removed]",
      "text/plain": [
       "<Figure size 432x288 with 1 Axes>"
      ]
     },
     "metadata": {
      "needs_background": "light"
     },
     "output_type": "display_data"
    }
   ],
   "source": [
    "sns.boxplot(data = df, orient = 'h').set()"
   ]
  },
  {
   "cell_type": "markdown",
   "metadata": {},
   "source": [
    "3.Написати функції:  \n",
    "- для оцінки вімінностей дисперсій між групами за критерієм Лівеня. Функція має повертати значення тесту та результат оцінки рівності дисперсій (significant або not significant).\n",
    "\n",
    "- для визначення відмінності між групами за критерієм Стьюдента в залежності від рівності/відмінності дисперсій. Функція має повертати значення критерію Стьюдента,значення ступеня свободи та результат оцінки значимості зв'зку (significant або not significant)."
   ]
  },
  {
   "cell_type": "code",
   "execution_count": 4,
   "metadata": {},
   "outputs": [],
   "source": [
    "def Sigma(arr):\n",
    "    summa = 0\n",
    "    mean = sum(arr)/N\n",
    "    for i in range(N):\n",
    "        summa += (arr[i] - mean)**2\n",
    "    return summa/(N - 1)\n",
    "\n",
    "def Liven(df):\n",
    "    s1 = Sigma(df[\"Глядацький зал 1\"])\n",
    "    s2 = Sigma(df[\"Глядацький зал 2\"])\n",
    "    \n",
    "    if(s1>s2):\n",
    "        F = s1/s2\n",
    "    else:\n",
    "        F = s2/s1\n",
    "    print('Отримане значення критерію Лівеня : F = ' + str(F))\n",
    "    \n",
    "    data = data1 = data2 = N - 1\n",
    "    if data1 > 15:\n",
    "        data1 = '>15'\n",
    "        \n",
    "    if data2 > 20:\n",
    "        data2 = '>20'\n",
    "    print('Значення ступенів свободи: df = ' + str(data))\n",
    "    \n",
    "    table = pd.read_excel(\"Таблиця критичних значень для критерію Лівеня.xlsx\",index_col=0)\n",
    "    table = table[data1][data2]\n",
    "    print(\"Критичне значення критерію Лівеня = \" + str(table))\n",
    "    \n",
    "    if F < table:\n",
    "        result = \"significant\"\n",
    "        print(\"Результат оцінки значимості зв'зку: \" + result)\n",
    "    else:\n",
    "        result = \"not significant\"\n",
    "        print(\"Результат оцінки значимості зв'зку: \" + result)\n",
    "        \n",
    "    return F, result\n"
   ]
  },
  {
   "cell_type": "code",
   "execution_count": 5,
   "metadata": {},
   "outputs": [],
   "source": [
    "def Student(df, value):\n",
    "    s1 = Sigma(df[\"Глядацький зал 1\"])\n",
    "    s2 = Sigma(df[\"Глядацький зал 2\"])\n",
    "    df2 = 2*N - 2\n",
    "   \n",
    "    if value == 'significant':\n",
    "        t = (abs((sum(df[\"Глядацький зал 1\"])/N) - (sum(df[\"Глядацький зал 2\"])/N)))/sqrt((s1 / N) + (s2 / N))\n",
    "    else:\n",
    "        t = (abs((sum(df[\"Глядацький зал 1\"])/N) - (sum(df[\"Глядацький зал 2\"])/N))) / sqrt(((N - 1)*s1 + (N - 1)*s2)*((1/N)+(1/N)) / df2)\n",
    "    print('Отримане значення критерію Стьюдента: t = ' + str(t))\n",
    "    print('Значення ступеня свободи: df = ' + str(df2))\n",
    "    \n",
    "    table = pd.read_excel(\"Таблиця критичних значень для критерію Стьюдента.xlsx\").iloc[df2, 1]\n",
    "    print(\"Критичне значення критерію Стьюдента = \" + str(table))\n",
    "    \n",
    "    if t < table:\n",
    "        result = \"significant\" \n",
    "        print(\"Результат оцінки значимості зв'зку: \" + result)\n",
    "    else:\n",
    "        result = \"not significant\"\n",
    "        print(\"Результат оцінки значимості зв'зку: \" + result)\n",
    "    \n",
    "    return t, df2, result"
   ]
  },
  {
   "cell_type": "markdown",
   "metadata": {},
   "source": [
    "4.Перевірити розбіжність на між групами на даних з п. 1."
   ]
  },
  {
   "cell_type": "code",
   "execution_count": 6,
   "metadata": {},
   "outputs": [
    {
     "name": "stdout",
     "output_type": "stream",
     "text": [
      "Отримане значення критерію Лівеня : F = 1.0691703946784092\n",
      "Значення ступенів свободи: df = 30\n",
      "Критичне значення критерію Лівеня = 1.45\n",
      "Результат оцінки значимості зв'зку: significant\n"
     ]
    },
    {
     "data": {
      "text/plain": [
       "(1.0691703946784092, 'significant')"
      ]
     },
     "execution_count": 6,
     "metadata": {},
     "output_type": "execute_result"
    }
   ],
   "source": [
    "Liven(df)"
   ]
  },
  {
   "cell_type": "code",
   "execution_count": 7,
   "metadata": {},
   "outputs": [
    {
     "name": "stdout",
     "output_type": "stream",
     "text": [
      "Отримане значення критерію Стьюдента: t = 0.7916982771782055\n",
      "Значення ступеня свободи: df = 60\n",
      "Критичне значення критерію Стьюдента = 2.0\n",
      "Результат оцінки значимості зв'зку: significant\n"
     ]
    },
    {
     "data": {
      "text/plain": [
       "(0.7916982771782055, 60, 'significant')"
      ]
     },
     "execution_count": 7,
     "metadata": {},
     "output_type": "execute_result"
    }
   ],
   "source": [
    "Student(df, 'significant')"
   ]
  }
 ],
 "metadata": {
  "kernelspec": {
   "display_name": "Python 3",
   "language": "python",
   "name": "python3"
  },
  "language_info": {
   "codemirror_mode": {
    "name": "ipython",
    "version": 3
   },
   "file_extension": ".py",
   "mimetype": "text/x-python",
   "name": "python",
   "nbconvert_exporter": "python",
   "pygments_lexer": "ipython3",
   "version": "3.7.4"
  }
 },
 "nbformat": 4,
 "nbformat_minor": 2
}
