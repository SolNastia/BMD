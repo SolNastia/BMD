{
 "cells": [
  {
   "cell_type": "markdown",
   "metadata": {},
   "source": [
    "## Обробка та аналіз БМД\n",
    "  \n",
    "**Лабораторна робота №6**  \n",
    "**Парний t-критерій Стьюдента**  \n",
    "виконала студентка групи БС-81  \n",
    "Соловйова Анастасія"
   ]
  },
  {
   "cell_type": "code",
   "execution_count": 1,
   "metadata": {},
   "outputs": [],
   "source": [
    "from numpy.random import randint\n",
    "import seaborn as sns\n",
    "import pandas as pd\n",
    "import matplotlib.pyplot as plt"
   ]
  },
  {
   "cell_type": "markdown",
   "metadata": {},
   "source": [
    "1.Обрати реальні дані з kaggle або сгенерувати випадкові дані."
   ]
  },
  {
   "cell_type": "code",
   "execution_count": 2,
   "metadata": {
    "scrolled": true
   },
   "outputs": [
    {
     "data": {
      "text/html": [
       "<div>\n",
       "<style scoped>\n",
       "    .dataframe tbody tr th:only-of-type {\n",
       "        vertical-align: middle;\n",
       "    }\n",
       "\n",
       "    .dataframe tbody tr th {\n",
       "        vertical-align: top;\n",
       "    }\n",
       "\n",
       "    .dataframe thead th {\n",
       "        text-align: right;\n",
       "    }\n",
       "</style>\n",
       "<table border=\"1\" class=\"dataframe\">\n",
       "  <thead>\n",
       "    <tr style=\"text-align: right;\">\n",
       "      <th>Кількість глядачів</th>\n",
       "      <th>Глядацький зал 1</th>\n",
       "      <th>Глядацький зал 2</th>\n",
       "    </tr>\n",
       "    <tr>\n",
       "      <th>Сеанс</th>\n",
       "      <th></th>\n",
       "      <th></th>\n",
       "    </tr>\n",
       "  </thead>\n",
       "  <tbody>\n",
       "    <tr>\n",
       "      <td>9:00 - 11:00</td>\n",
       "      <td>26</td>\n",
       "      <td>38</td>\n",
       "    </tr>\n",
       "    <tr>\n",
       "      <td>11:00 - 13:00</td>\n",
       "      <td>40</td>\n",
       "      <td>23</td>\n",
       "    </tr>\n",
       "    <tr>\n",
       "      <td>13:00 - 15:00</td>\n",
       "      <td>29</td>\n",
       "      <td>53</td>\n",
       "    </tr>\n",
       "    <tr>\n",
       "      <td>15:00 - 17:00</td>\n",
       "      <td>52</td>\n",
       "      <td>55</td>\n",
       "    </tr>\n",
       "    <tr>\n",
       "      <td>17:00 - 19:00</td>\n",
       "      <td>21</td>\n",
       "      <td>36</td>\n",
       "    </tr>\n",
       "    <tr>\n",
       "      <td>19:00 - 21:00</td>\n",
       "      <td>50</td>\n",
       "      <td>37</td>\n",
       "    </tr>\n",
       "    <tr>\n",
       "      <td>21:00 - 23:00</td>\n",
       "      <td>48</td>\n",
       "      <td>26</td>\n",
       "    </tr>\n",
       "    <tr>\n",
       "      <td>23:00 - 01:00</td>\n",
       "      <td>43</td>\n",
       "      <td>37</td>\n",
       "    </tr>\n",
       "  </tbody>\n",
       "</table>\n",
       "</div>"
      ],
      "text/plain": [
       "Кількість глядачів  Глядацький зал 1  Глядацький зал 2\n",
       "Сеанс                                                 \n",
       "9:00 - 11:00                      26                38\n",
       "11:00 - 13:00                     40                23\n",
       "13:00 - 15:00                     29                53\n",
       "15:00 - 17:00                     52                55\n",
       "17:00 - 19:00                     21                36\n",
       "19:00 - 21:00                     50                37\n",
       "21:00 - 23:00                     48                26\n",
       "23:00 - 01:00                     43                37"
      ]
     },
     "execution_count": 2,
     "metadata": {},
     "output_type": "execute_result"
    }
   ],
   "source": [
    "group1 = randint(20, 60, 8)\n",
    "group2 = randint(20, 60, 8)\n",
    "\n",
    "df = pd.DataFrame({\n",
    "    \"Глядацький зал 1\": group1, \n",
    "    \"Глядацький зал 2\": group2,\n",
    "    }, index = [\"9:00 - 11:00\", \"11:00 - 13:00\",\"13:00 - 15:00\", \"15:00 - 17:00\", \"17:00 - 19:00\", \"19:00 - 21:00\", \"21:00 - 23:00\", \"23:00 - 01:00\"])\n",
    "\n",
    "df.index.name = 'Сеанс'\n",
    "df.columns.name = 'Кількість глядачів'\n",
    "df"
   ]
  },
  {
   "cell_type": "markdown",
   "metadata": {},
   "source": [
    "2. Побудувати графік, що відображає розкид даних в групах."
   ]
  },
  {
   "cell_type": "code",
   "execution_count": 3,
   "metadata": {},
   "outputs": [
    {
     "data": {
      "text/plain": [
       "[]"
      ]
     },
     "execution_count": 3,
     "metadata": {},
     "output_type": "execute_result"
    },
    {
     "data": {
      "image/png": "[encoded data removed]",
      "text/plain": [
       "<Figure size 432x288 with 1 Axes>"
      ]
     },
     "metadata": {
      "needs_background": "light"
     },
     "output_type": "display_data"
    }
   ],
   "source": [
    "sns.boxplot(data = df, orient = 'h').set()"
   ]
  },
  {
   "cell_type": "markdown",
   "metadata": {},
   "source": [
    "\n",
    "3.Написати функції:\n",
    "- для оцінки зв'язку між групами за коефіцієнтом кореляції Пірсона. Функція має повертати значення коефіцієнту кореляції, значення ступеня свободи та результат оцінки значимості зв'зку (significant або not significant).\n",
    "\n",
    "- для визначення відмінності між групами за критерієм Стьюдента. Функція має повертати значення критерію Стьюдента,значення ступеня свободи та результат оцінки значимості зв'зку (significant або not significant)."
   ]
  },
  {
   "cell_type": "code",
   "execution_count": 4,
   "metadata": {},
   "outputs": [],
   "source": [
    "def Pirson(x, y):\n",
    "    n = len(x)\n",
    "    r = ( sum(x * y) - n * (sum(x)/n) * (sum(y)/n) ) / ( n * ( ( ( sum(x**2)/n - (sum(x)/n)**2 ) * ( sum(y**2)/n - (sum(y)/n)**2) ) )**(1/2) )\n",
    "    print(\"Значення коефіцієнту кореляції: \" + str(r))\n",
    "    \n",
    "    df = n - 2\n",
    "    print(\"Значення ступеня свободи: \" + str(df))\n",
    "    \n",
    "    read = pd.read_excel(\"CriticalTable.xlsx\")\n",
    "    table = read.loc[df - 1, 0.05]\n",
    "    print(\"Критичне значення коефіцієнту кореляції = \" + str(table))\n",
    "    \n",
    "    if abs(r) > table:\n",
    "        result = \"significant\"\n",
    "        print(\"Результат оцінки значимості зв'зку: \" + result)\n",
    "    else:\n",
    "        result = \"not significant\"\n",
    "        print(\"Результат оцінки значимості зв'зку: \" + result)\n",
    "    \n",
    "    return r, df, result"
   ]
  },
  {
   "cell_type": "code",
   "execution_count": 5,
   "metadata": {},
   "outputs": [],
   "source": [
    "def Student(x, y):\n",
    "    d = x - y\n",
    "    n = len(x)\n",
    "    M = d.mean()\n",
    "    sigma = d.std()\n",
    "    t = (M/sigma) * (n)**(1/2)\n",
    "    print(\"Значення t-критерію Стьюдента: t = \"  + str(t))\n",
    "    \n",
    "    df = n - 1\n",
    "    print('Значення ступеня свободи: df = ' + str(df))\n",
    "    \n",
    "    read = pd.read_excel(\"CriticalTable.xlsx\")\n",
    "    table = read.loc[df - 1, 0.05]\n",
    "    print(\"Критичне значення коефіцієнту Стьюдента = \" + str(table))\n",
    "    \n",
    "    if abs(t) > table:\n",
    "        result = \"significant\"\n",
    "        print(\"Результат оцінки значимості зв'зку: \" + result)\n",
    "    else:\n",
    "        result = \"not significant\"\n",
    "        print(\"Результат оцінки значимості зв'зку: \" + result)\n",
    "    \n",
    "    return t, df, result"
   ]
  },
  {
   "cell_type": "markdown",
   "metadata": {},
   "source": [
    "4. Перевірити розбіжність на між групами на даних з п. 1."
   ]
  },
  {
   "cell_type": "code",
   "execution_count": 6,
   "metadata": {},
   "outputs": [
    {
     "name": "stdout",
     "output_type": "stream",
     "text": [
      "Значення коефіцієнту кореляції: -0.03281484920114887\n",
      "Значення ступеня свободи: 6\n",
      "Критичне значення коефіцієнту кореляції = 2.447\n",
      "Результат оцінки значимості зв'зку: not significant\n"
     ]
    },
    {
     "data": {
      "text/plain": [
       "(-0.03281484920114887, 6, 'not significant')"
      ]
     },
     "execution_count": 6,
     "metadata": {},
     "output_type": "execute_result"
    }
   ],
   "source": [
    "Pirson(group1, group2)"
   ]
  },
  {
   "cell_type": "code",
   "execution_count": 7,
   "metadata": {},
   "outputs": [
    {
     "name": "stdout",
     "output_type": "stream",
     "text": [
      "Значення t-критерію Стьюдента: t = 0.0910502907211971\n",
      "Значення ступеня свободи: df = 7\n",
      "Критичне значення коефіцієнту Стьюдента = 2.365\n",
      "Результат оцінки значимості зв'зку: not significant\n"
     ]
    },
    {
     "data": {
      "text/plain": [
       "(0.0910502907211971, 7, 'not significant')"
      ]
     },
     "execution_count": 7,
     "metadata": {},
     "output_type": "execute_result"
    }
   ],
   "source": [
    "Student(group1, group2)"
   ]
  },
  {
   "cell_type": "markdown",
   "metadata": {},
   "source": [
    "5. Сформувати висновок про взаємозв'язок між групами та про їх розбіжність.  \n",
    "\n",
    "### Висновок###  \n",
    "-  Під час аналізу двох груп на залежність між собою було отримано результат, що довзволяє припустити, що статистичної залежності немає.  \n",
    "\n",
    "- Під час аналізу на перевірку відмінності між групами з допомогою розрахунку критерію t-Стьюдента була прийнята альтернативна гіпотеза про відмінність середніх\n"
   ]
  }
 ],
 "metadata": {
  "kernelspec": {
   "display_name": "Python 3",
   "language": "python",
   "name": "python3"
  },
  "language_info": {
   "codemirror_mode": {
    "name": "ipython",
    "version": 3
   },
   "file_extension": ".py",
   "mimetype": "text/x-python",
   "name": "python",
   "nbconvert_exporter": "python",
   "pygments_lexer": "ipython3",
   "version": "3.7.4"
  }
 },
 "nbformat": 4,
 "nbformat_minor": 1
}
