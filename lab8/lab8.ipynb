{
 "cells": [
  {
   "cell_type": "markdown",
   "metadata": {},
   "source": [
    "## Обробка та аналіз БМД\n",
    "  \n",
    "**Лабораторна робота №8**  \n",
    "**Дисперсійний аналіз**  \n",
    "виконала студентка групи БС-81  \n",
    "Соловйова Анастасія"
   ]
  },
  {
   "cell_type": "code",
   "execution_count": 2,
   "metadata": {},
   "outputs": [],
   "source": [
    "import numpy as np\n",
    "import pandas as pd\n",
    "import seaborn as sns"
   ]
  },
  {
   "cell_type": "markdown",
   "metadata": {},
   "source": [
    "1.Розрахувати та вивести у вигляді таблиці статистичні характиристики даних (середні та стандартні відхилення для кожної з груп)."
   ]
  },
  {
   "cell_type": "code",
   "execution_count": 4,
   "metadata": {},
   "outputs": [
    {
     "data": {
      "text/html": [
       "<div>\n",
       "<style scoped>\n",
       "    .dataframe tbody tr th:only-of-type {\n",
       "        vertical-align: middle;\n",
       "    }\n",
       "\n",
       "    .dataframe tbody tr th {\n",
       "        vertical-align: top;\n",
       "    }\n",
       "\n",
       "    .dataframe thead th {\n",
       "        text-align: right;\n",
       "    }\n",
       "</style>\n",
       "<table border=\"1\" class=\"dataframe\">\n",
       "  <thead>\n",
       "    <tr style=\"text-align: right;\">\n",
       "      <th></th>\n",
       "      <th>Group1</th>\n",
       "      <th>Group2</th>\n",
       "      <th>Group3</th>\n",
       "    </tr>\n",
       "    <tr>\n",
       "      <th>n</th>\n",
       "      <th></th>\n",
       "      <th></th>\n",
       "      <th></th>\n",
       "    </tr>\n",
       "  </thead>\n",
       "  <tbody>\n",
       "    <tr>\n",
       "      <td>0</td>\n",
       "      <td>7</td>\n",
       "      <td>8</td>\n",
       "      <td>5</td>\n",
       "    </tr>\n",
       "    <tr>\n",
       "      <td>1</td>\n",
       "      <td>9</td>\n",
       "      <td>5</td>\n",
       "      <td>3</td>\n",
       "    </tr>\n",
       "    <tr>\n",
       "      <td>2</td>\n",
       "      <td>8</td>\n",
       "      <td>7</td>\n",
       "      <td>5</td>\n",
       "    </tr>\n",
       "    <tr>\n",
       "      <td>3</td>\n",
       "      <td>5</td>\n",
       "      <td>4</td>\n",
       "      <td>6</td>\n",
       "    </tr>\n",
       "    <tr>\n",
       "      <td>4</td>\n",
       "      <td>6</td>\n",
       "      <td>6</td>\n",
       "      <td>2</td>\n",
       "    </tr>\n",
       "    <tr>\n",
       "      <td>5</td>\n",
       "      <td>7</td>\n",
       "      <td>8</td>\n",
       "      <td>4</td>\n",
       "    </tr>\n",
       "  </tbody>\n",
       "</table>\n",
       "</div>"
      ],
      "text/plain": [
       "   Group1  Group2  Group3\n",
       "n                        \n",
       "0       7       8       5\n",
       "1       9       5       3\n",
       "2       8       7       5\n",
       "3       5       4       6\n",
       "4       6       6       2\n",
       "5       7       8       4"
      ]
     },
     "execution_count": 4,
     "metadata": {},
     "output_type": "execute_result"
    }
   ],
   "source": [
    "df = pd.DataFrame({\n",
    "    \"Group1\":[7, 9, 8, 5, 6, 7],\n",
    "    \"Group2\":[8, 5, 7, 4, 6, 8],\n",
    "    \"Group3\":[5, 3, 5, 6, 2, 4]\n",
    "})\n",
    "df.index.name = 'n'\n",
    "n = df.shape[0]\n",
    "\n",
    "df"
   ]
  },
  {
   "cell_type": "code",
   "execution_count": 7,
   "metadata": {},
   "outputs": [
    {
     "data": {
      "text/html": [
       "<div>\n",
       "<style scoped>\n",
       "    .dataframe tbody tr th:only-of-type {\n",
       "        vertical-align: middle;\n",
       "    }\n",
       "\n",
       "    .dataframe tbody tr th {\n",
       "        vertical-align: top;\n",
       "    }\n",
       "\n",
       "    .dataframe thead th {\n",
       "        text-align: right;\n",
       "    }\n",
       "</style>\n",
       "<table border=\"1\" class=\"dataframe\">\n",
       "  <thead>\n",
       "    <tr style=\"text-align: right;\">\n",
       "      <th></th>\n",
       "      <th>Group1</th>\n",
       "      <th>Group2</th>\n",
       "      <th>Group3</th>\n",
       "    </tr>\n",
       "    <tr>\n",
       "      <th>n</th>\n",
       "      <th></th>\n",
       "      <th></th>\n",
       "      <th></th>\n",
       "    </tr>\n",
       "  </thead>\n",
       "  <tbody>\n",
       "    <tr>\n",
       "      <td>0</td>\n",
       "      <td>7.000000</td>\n",
       "      <td>8.000000</td>\n",
       "      <td>5.000000</td>\n",
       "    </tr>\n",
       "    <tr>\n",
       "      <td>1</td>\n",
       "      <td>9.000000</td>\n",
       "      <td>5.000000</td>\n",
       "      <td>3.000000</td>\n",
       "    </tr>\n",
       "    <tr>\n",
       "      <td>2</td>\n",
       "      <td>8.000000</td>\n",
       "      <td>7.000000</td>\n",
       "      <td>5.000000</td>\n",
       "    </tr>\n",
       "    <tr>\n",
       "      <td>3</td>\n",
       "      <td>5.000000</td>\n",
       "      <td>4.000000</td>\n",
       "      <td>6.000000</td>\n",
       "    </tr>\n",
       "    <tr>\n",
       "      <td>4</td>\n",
       "      <td>6.000000</td>\n",
       "      <td>6.000000</td>\n",
       "      <td>2.000000</td>\n",
       "    </tr>\n",
       "    <tr>\n",
       "      <td>5</td>\n",
       "      <td>7.000000</td>\n",
       "      <td>8.000000</td>\n",
       "      <td>4.000000</td>\n",
       "    </tr>\n",
       "    <tr>\n",
       "      <td>Середнє</td>\n",
       "      <td>7.000000</td>\n",
       "      <td>6.333333</td>\n",
       "      <td>4.166667</td>\n",
       "    </tr>\n",
       "    <tr>\n",
       "      <td>Стандартне відхилення</td>\n",
       "      <td>1.414214</td>\n",
       "      <td>1.632993</td>\n",
       "      <td>1.471960</td>\n",
       "    </tr>\n",
       "  </tbody>\n",
       "</table>\n",
       "</div>"
      ],
      "text/plain": [
       "                         Group1    Group2    Group3\n",
       "n                                                  \n",
       "0                      7.000000  8.000000  5.000000\n",
       "1                      9.000000  5.000000  3.000000\n",
       "2                      8.000000  7.000000  5.000000\n",
       "3                      5.000000  4.000000  6.000000\n",
       "4                      6.000000  6.000000  2.000000\n",
       "5                      7.000000  8.000000  4.000000\n",
       "Середнє                7.000000  6.333333  4.166667\n",
       "Стандартне відхилення  1.414214  1.632993  1.471960"
      ]
     },
     "execution_count": 7,
     "metadata": {},
     "output_type": "execute_result"
    }
   ],
   "source": [
    "s1=sum(df.iloc[:,0]/n)\n",
    "s2=sum(df.iloc[:,1]/n)\n",
    "s3=sum(df.iloc[:,2]/n)\n",
    "\n",
    "sd1=df.iloc[:,0].std()\n",
    "sd2=df.iloc[:,1].std()\n",
    "sd3=df.iloc[:,2].std()\n",
    "\n",
    "new_df = pd.DataFrame({\n",
    "    \"Group1\":[7, 9, 8, 5, 6, 7],\n",
    "    \"Group2\":[8, 5, 7, 4, 6, 8],\n",
    "    \"Group3\":[5, 3, 5, 6, 2, 4]\n",
    "})\n",
    "\n",
    "new_df.index.name = 'n'\n",
    "new_df.loc[\"Середнє\"] = [s1,s2,s3]\n",
    "new_df.loc[\"Стандартне відхилення\"] = [sd1,sd2,sd3]\n",
    "new_df"
   ]
  },
  {
   "cell_type": "markdown",
   "metadata": {},
   "source": [
    "2.Побудувати графік розкиду в групах."
   ]
  },
  {
   "cell_type": "code",
   "execution_count": 8,
   "metadata": {},
   "outputs": [
    {
     "data": {
      "text/plain": [
       "[]"
      ]
     },
     "execution_count": 8,
     "metadata": {},
     "output_type": "execute_result"
    },
    {
     "data": {
      "image/png": "[encoded data removed]",
      "text/plain": [
       "<Figure size 432x288 with 1 Axes>"
      ]
     },
     "metadata": {
      "needs_background": "light"
     },
     "output_type": "display_data"
    }
   ],
   "source": [
    "sns.boxplot(data=df, orient='h').set()"
   ]
  },
  {
   "cell_type": "markdown",
   "metadata": {},
   "source": [
    "3.Побудувати функцію, що реалізовує однофакторний дисперсійний аналіз."
   ]
  },
  {
   "cell_type": "code",
   "execution_count": 9,
   "metadata": {},
   "outputs": [],
   "source": [
    "def DispersialAnalys(data):\n",
    "    c = len(data.columns)\n",
    "    n = len(data)\n",
    "    N = c*n\n",
    "    SS_f = sum([data[i].sum()**2 for i in data.columns])/n - sum([data[i].sum() for i in data.columns])**2/N\n",
    "    SS_z = - sum([data[i].sum() for i in data.columns])**2/N\n",
    "    for i in range(c):\n",
    "        for j in range(n):\n",
    "            SS_z += (data[data.columns[i]][j])**2\n",
    "    SS_v = SS_z - SS_f\n",
    "    d_f = c - 1\n",
    "    d_z = N - 1\n",
    "    d_v = d_z - d_f\n",
    "    MS_f = SS_f/d_f\n",
    "    MS_v = SS_v/d_v \n",
    "    F_empir = MS_f/MS_v\n",
    "    fisher = pd.read_excel(\"Таблиця критичних значень для критерію Фішера.xlsx\")\n",
    "    ind1 = 0\n",
    "    ind2 = 0\n",
    "    for i in range(1, fisher.shape[0]-10):\n",
    "        if(fisher.iloc[i,0] <= d_v ):\n",
    "            ind1 = i\n",
    "    if (fisher.iloc[fisher.shape[0]-2, 0] < d_v ):\n",
    "        ind1 = fisher.shape[0]-1\n",
    "    for i in range(1, fisher.shape[1]-1):\n",
    "        if(fisher.iloc[i,0] <= d_f):\n",
    "            ind2 = i\n",
    "    if (fisher.iloc[fisher.shape[1]-2, 0] < d_f):\n",
    "        ind2 = fisher.shape[2]-1\n",
    "    F_krit = fisher.iloc[ind1, ind2]\n",
    "    indexes = [\"SSфакт\", \"SSзаг\", \"SSвип\", \"dфакт\", \"dзаг\", \"dвип\", \"MSфакт\", \"MSвип\", \"Fемпір\", \"Fкрит\"]\n",
    "    values = [SS_f, SS_z, SS_v, d_f, d_z, d_v , MS_f, MS_v, F_empir, F_krit]\n",
    "    DF = pd.DataFrame({\n",
    "        \"Values\": np.round(values, 2)},\n",
    "        index = indexes\n",
    "    )\n",
    "    print(DF)\n",
    "    if F_empir < F_krit:\n",
    "        return \"Рівність середніх підтверджена\"\n",
    "    else: \n",
    "        return \"Рівність середніх не підтверджена\""
   ]
  },
  {
   "cell_type": "markdown",
   "metadata": {},
   "source": [
    "4.Вивести результати розрахунку кожного з етапів вказаних вище у вигляді таблиці.  \n",
    "5.Перевірити результат роботи функції на реальних або сгенерованих даних. Зробити висновок."
   ]
  },
  {
   "cell_type": "code",
   "execution_count": 10,
   "metadata": {},
   "outputs": [
    {
     "name": "stdout",
     "output_type": "stream",
     "text": [
      "        Values\n",
      "SSфакт   26.33\n",
      "SSзаг    60.50\n",
      "SSвип    34.17\n",
      "dфакт     2.00\n",
      "dзаг     17.00\n",
      "dвип     15.00\n",
      "MSфакт   13.17\n",
      "MSвип     2.28\n",
      "Fемпір    5.78\n",
      "Fкрит     3.68\n"
     ]
    },
    {
     "data": {
      "text/plain": [
       "'Рівність середніх не підтверджена'"
      ]
     },
     "execution_count": 10,
     "metadata": {},
     "output_type": "execute_result"
    }
   ],
   "source": [
    "DispersialAnalys(df)"
   ]
  },
  {
   "cell_type": "markdown",
   "metadata": {},
   "source": [
    "### Висновок\n",
    "- Під час дисперсійного аналізу було отримано результат, який дозволяє відхилити нульову гіпотезу про рівність середніх та прийняти альтернативну гіпотезу про їхню відмінність, оскільки розрахований критерій Фішера виявився більший за критичний для відповідних ступеней свободи."
   ]
  }
 ],
 "metadata": {
  "kernelspec": {
   "display_name": "Python 3",
   "language": "python",
   "name": "python3"
  },
  "language_info": {
   "codemirror_mode": {
    "name": "ipython",
    "version": 3
   },
   "file_extension": ".py",
   "mimetype": "text/x-python",
   "name": "python",
   "nbconvert_exporter": "python",
   "pygments_lexer": "ipython3",
   "version": "3.7.4"
  }
 },
 "nbformat": 4,
 "nbformat_minor": 2
}
